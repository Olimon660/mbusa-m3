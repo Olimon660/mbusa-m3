{
 "cells": [
  {
   "cell_type": "markdown",
   "metadata": {},
   "source": [
    "This is just some scratch work"
   ]
  },
  {
   "cell_type": "code",
   "execution_count": 33,
   "metadata": {
    "ExecuteTime": {
     "end_time": "2018-07-15T07:48:11.374787Z",
     "start_time": "2018-07-15T07:48:11.142141Z"
    }
   },
   "outputs": [],
   "source": [
    "import nltk\n",
    "# nltk.download('stopwords')\n",
    "# nltk.download('punkt')\n",
    "# nltk.download('averaged_perceptron_tagger')\n",
    "# nltk.download('sentiwordnet')\n",
    "# nltk.download('wordnet')\n",
    "from nltk.corpus import stopwords #stopwords in english \n",
    "from nltk.tokenize import RegexpTokenizer\n",
    "from nltk.stem import PorterStemmer #stem english \n",
    "from nltk.tokenize import sent_tokenize #tokenize sentence\n",
    "from nltk.tokenize import word_tokenize #tokenize word\n",
    "from nltk.chunk import RegexpParser\n",
    "from nltk.chunk import ne_chunk #Name Entitiy \n",
    "from nltk.corpus import wordnet as wn\n",
    "from nltk.corpus import sentiwordnet as swn\n",
    "from sklearn.feature_selection import chi2, SelectKBest, mutual_info_classif\n",
    "from sklearn.preprocessing import label_binarize\n",
    "from sklearn.multiclass import OneVsRestClassifier \n",
    "from itertools import cycle\n",
    "from sklearn.preprocessing import StandardScaler\n",
    "from sklearn.metrics import precision_recall_fscore_support\n",
    "import os"
   ]
  },
  {
   "cell_type": "code",
   "execution_count": 3,
   "metadata": {
    "ExecuteTime": {
     "end_time": "2018-07-15T06:06:56.864421Z",
     "start_time": "2018-07-15T06:06:56.798572Z"
    }
   },
   "outputs": [
    {
     "name": "stderr",
     "output_type": "stream",
     "text": [
      "C:\\Users\\zhaox\\Anaconda3\\lib\\site-packages\\gensim\\utils.py:1197: UserWarning: detected Windows; aliasing chunkize to chunkize_serial\n",
      "  warnings.warn(\"detected Windows; aliasing chunkize to chunkize_serial\")\n"
     ]
    }
   ],
   "source": [
    "import numpy as np\n",
    "import pandas as pd\n",
    "import re\n",
    "import math\n",
    "import string\n",
    "from scipy import interp\n",
    "\n",
    "from sklearn.metrics import accuracy_score, precision_score, recall_score, f1_score, confusion_matrix\n",
    "from sklearn.model_selection import cross_val_score\n",
    "from sklearn.feature_extraction.text import TfidfTransformer\n",
    "from sklearn.svm import SVC\n",
    "from sklearn.pipeline import Pipeline, FeatureUnion\n",
    "from sklearn.feature_extraction.text import CountVectorizer\n",
    "from sklearn.preprocessing import FunctionTransformer\n",
    "from sklearn.naive_bayes import MultinomialNB\n",
    "from sklearn.ensemble import RandomForestClassifier\n",
    "from sklearn.linear_model import LogisticRegression\n",
    "from sklearn.model_selection import train_test_split\n",
    "from sklearn.metrics import f1_score, confusion_matrix, roc_curve, auc\n",
    "\n",
    "from xgboost import XGBClassifier\n",
    "from gensim.models import FastText\n",
    "import gensim\n",
    "import os\n",
    "from gensim.models.word2vec import LineSentence\n",
    "from gensim.models.fasttext import FastText as FT_gensim\n",
    "\n",
    "from matplotlib import pyplot as plt\n",
    "import seaborn as sns\n",
    "%matplotlib inline"
   ]
  },
  {
   "cell_type": "code",
   "execution_count": 5,
   "metadata": {
    "ExecuteTime": {
     "end_time": "2018-07-15T04:39:48.526120Z",
     "start_time": "2018-07-15T04:39:48.521134Z"
    }
   },
   "outputs": [],
   "source": [
    "seed = 42"
   ]
  },
  {
   "cell_type": "code",
   "execution_count": 6,
   "metadata": {
    "ExecuteTime": {
     "end_time": "2018-07-15T04:32:19.108224Z",
     "start_time": "2018-07-15T04:32:19.006494Z"
    }
   },
   "outputs": [],
   "source": [
    "raw = pd.read_csv(\"filtered2_camp.csv\")\n",
    "y = raw[\"character\"]\n",
    "X = raw[\"dialogue\"]\n",
    "y_camp = raw['camp']"
   ]
  },
  {
   "cell_type": "code",
   "execution_count": 7,
   "metadata": {
    "ExecuteTime": {
     "end_time": "2018-07-15T04:39:50.348585Z",
     "start_time": "2018-07-15T04:39:50.336620Z"
    }
   },
   "outputs": [
    {
     "name": "stdout",
     "output_type": "stream",
     "text": [
      "Number of rows in the training set: 1215\n",
      "Number of rows in the test set: 406\n"
     ]
    }
   ],
   "source": [
    "X_train, X_test, y_train, y_test = train_test_split(X, \n",
    "                                                    y, \n",
    "                                                    random_state=seed,stratify=y)\n",
    "\n",
    "print('Number of rows in the training set: {}'.format(X_train.shape[0]))\n",
    "print('Number of rows in the test set: {}'.format(X_test.shape[0]))"
   ]
  },
  {
   "cell_type": "code",
   "execution_count": 8,
   "metadata": {
    "ExecuteTime": {
     "end_time": "2018-07-15T04:32:19.836501Z",
     "start_time": "2018-07-15T04:32:19.822538Z"
    }
   },
   "outputs": [],
   "source": [
    "add_stop = [\"'ll\",\"'re\",\"'s\", \"n't\", \"'ve\", \"ca\", \"wo\", \"'m\",\" \"]\n",
    "stop_word_dict = stopwords.words(\"english\") + add_stop"
   ]
  },
  {
   "cell_type": "code",
   "execution_count": 9,
   "metadata": {
    "ExecuteTime": {
     "end_time": "2018-07-15T04:32:20.207508Z",
     "start_time": "2018-07-15T04:32:20.202525Z"
    }
   },
   "outputs": [],
   "source": [
    "charac_names = ['luke','leia','han', 'threepio', 'vader']"
   ]
  },
  {
   "cell_type": "code",
   "execution_count": 10,
   "metadata": {
    "ExecuteTime": {
     "end_time": "2018-07-15T08:25:04.073694Z",
     "start_time": "2018-07-15T08:25:03.902981Z"
    }
   },
   "outputs": [],
   "source": [
    "name_mapping = {0:'Han', 1:'Leia', 2:'Luke', 3:'Threepio', 4:'Vader'}"
   ]
  },
  {
   "cell_type": "markdown",
   "metadata": {},
   "source": [
    "# Functions for getting additional features"
   ]
  },
  {
   "cell_type": "code",
   "execution_count": 11,
   "metadata": {
    "ExecuteTime": {
     "end_time": "2018-07-15T06:49:09.012466Z",
     "start_time": "2018-07-15T06:49:08.819054Z"
    },
    "code_folding": [
     69
    ]
   },
   "outputs": [],
   "source": [
    "# def get_text_length(x):\n",
    "#     \"\"\"This function is to get the total lenth of the sentence\"\"\"\n",
    "#     return np.array([len(t) for t in x]).reshape(-1, 1)\n",
    "\n",
    "def stemmed_words(doc):\n",
    "    return (stemmer.stem(w) for w in analyzer(doc))\n",
    "\n",
    "def stemmed_words_with_stop(doc):\n",
    "    return (stemmer.stem(w) for w in analyzer_with_stop(doc))\n",
    "\n",
    "stemmer = PorterStemmer()\n",
    "analyzer = CountVectorizer().build_analyzer()\n",
    "analyzer_with_stop = CountVectorizer().build_analyzer()\n",
    "\n",
    "stem_vectorizer = CountVectorizer(analyzer=stemmed_words)\n",
    "stem_vectorizer_with_stop = CountVectorizer(analyzer=stemmed_words_with_stop)\n",
    "\n",
    "vectorizer = CountVectorizer()\n",
    "vectorizer_with_stop = CountVectorizer(stop_words=stop_word_dict)\n",
    "\n",
    "\n",
    "def get_text_length(x):\n",
    "    \"\"\"This function is to get the total lenth of the sentence\"\"\"\n",
    "    return np.array([len(t) for t in x]).reshape(-1, 1)\n",
    "\n",
    "def get_questions(x):\n",
    "    return np.array([t.count('?') for t in x]).reshape(-1, 1)\n",
    "\n",
    "\n",
    "def get_exclaimation(x):\n",
    "    return np.array([t.count('!') for t in x]).reshape(-1, 1)\n",
    "\n",
    "def get_question_words(x):\n",
    "    return np.array([(t.lower().count('who') + t.lower().count('where') + t.lower().count('what') + \\\n",
    "                     t.lower().count('how') + t.lower().count('when'))/len(t.split()) for t in x]).reshape(-1, 1)\n",
    "\n",
    "# Falcon, Chewie - Han\n",
    "# Anchorhead Empire Rebellion\n",
    "gazetteer = ['the force', 'mind trick', 'jedi knight', 'jedi master',\n",
    "           'the chosen one', 'general grievous', 'clone trooper','order 66',\n",
    "           'galatic empire', 'death star', 'rebel army','millenium falcon',\n",
    "           'star destroyer','battle of endor','the new republic','first order']\n",
    "char_names = ['leia', 'han', 'luke', 'threepio', 'vader']\n",
    "locations = ['Tatooine III', 'Lars Homestead', 'Tosche Station','Ben\\'s House', 'Mos Eisley','The Cantina','Death Star',\n",
    "            'Great Temple','Battle of Hoth','Echo Base','Yoda\\'s House','Cloud City','Processing Vane','Jabba\\'s Palace',\n",
    "            \"Jabba's Throne Room\",\"Battle of Endor\",\"Ewok Village\",\"Death Star II\",\"Emperor's Lair\",\"Executor Command Tower\"]\n",
    "\n",
    "def sentence_to_list(x):\n",
    "    l = list()\n",
    "    for row in x:\n",
    "        l.append(row.split())\n",
    "    return l\n",
    "\n",
    "def get_char_names(x):\n",
    "    l = list()\n",
    "    for row in x:\n",
    "        l.append(sum([row.count(name)/len(row.split()) for name in char_names]))\n",
    "    return np.array(l).reshape(-1, 1)\n",
    "\n",
    "def gazette_f(x):\n",
    "    l = []\n",
    "    for word in gazette:\n",
    "        l.append([word in row.lower() for row in x])\n",
    "    return np.column_stack(l)\n",
    "\n",
    "\n",
    "def get_gazetteer(x):\n",
    "    l = []\n",
    "    for word in gazetteer:\n",
    "        l.append([row.lower().count(word)/len(row.split()) for row in x])\n",
    "    return np.column_stack(l)\n",
    "\n",
    "def get_location(x):\n",
    "    l = list()\n",
    "    for row in x:\n",
    "        l.append(sum([row.count(loc)/len(row.split()) for loc in locations]))\n",
    "    return np.array(l).reshape(-1, 1)\n",
    "\n",
    "def get_senti_score(x):\n",
    "    sentipol = []    #Sentiment polarity\n",
    "    sentiscore = []  #Sentiment score\n",
    "    for row in x:\n",
    "        temp = word_tokenize(row.lower())\n",
    "        tagged = nltk.pos_tag(temp)\n",
    "        pos = 0\n",
    "        neg = 0\n",
    "\n",
    "        for word,tag in tagged:             \n",
    "            ss_set = None\n",
    "            if tag in ['JJ','RB','VB']:\n",
    "                ss_set = list(swn.senti_synsets(word))\n",
    "\n",
    "            if ss_set:\n",
    "                pos+=ss_set[0].pos_score()\n",
    "                neg+=ss_set[0].neg_score()\n",
    "\n",
    "        if pos-neg > 0:\n",
    "            sentipol.append(2)\n",
    "        elif pos == neg:\n",
    "            sentipol.append(1)\n",
    "        else:\n",
    "            sentipol.append(0)\n",
    "            \n",
    "        sentiscore.append(pos-neg)\n",
    "        \n",
    "    return np.column_stack([sentiscore])\n",
    "\n",
    "\n",
    "def get_pos_pecent(x):\n",
    "    count_adj_lst = []\n",
    "    count_adv_lst = []\n",
    "    count_pronoun_lst = []\n",
    "    for row in x:\n",
    "        temp = word_tokenize(row.lower())\n",
    "        tagged = nltk.pos_tag(temp)\n",
    "\n",
    "        count_adj = 0\n",
    "        count_adv = 0\n",
    "        count_pronoun = 0\n",
    "        for word,tag in tagged: \n",
    "            if tag == 'JJ':\n",
    "                count_adj += 1\n",
    "            elif tag == 'RB':\n",
    "                count_adv += 1\n",
    "            elif tag ==' PRP':\n",
    "                count_pronoun += 1\n",
    "                \n",
    "        count_adj_lst.append(count_adj/len(row.split()))\n",
    "        count_adv_lst.append(count_adv/len(row.split()))\n",
    "        count_pronoun_lst.append(count_pronoun/len(row.split()))\n",
    "\n",
    "    return np.column_stack([count_adj_lst,count_adv_lst,count_pronoun_lst])"
   ]
  },
  {
   "cell_type": "markdown",
   "metadata": {},
   "source": [
    "# BOW with other features"
   ]
  },
  {
   "cell_type": "markdown",
   "metadata": {},
   "source": [
    "https://stackoverflow.com/questions/39121104/how-to-add-another-feature-length-of-text-to-current-bag-of-words-classificati\n",
    "http://scikit-learn.org/stable/auto_examples/hetero_feature_union.html"
   ]
  },
  {
   "cell_type": "markdown",
   "metadata": {},
   "source": [
    "## 0-R"
   ]
  },
  {
   "cell_type": "code",
   "execution_count": 23,
   "metadata": {
    "ExecuteTime": {
     "end_time": "2018-07-15T04:32:23.356288Z",
     "start_time": "2018-07-15T04:32:23.317393Z"
    }
   },
   "outputs": [
    {
     "name": "stdout",
     "output_type": "stream",
     "text": [
      "Accuracy score:  0.3054187192118227\n",
      "Precision score:  0.061083743842364535\n",
      "Recall score:  0.2\n",
      "F1 score:  0.09358490566037736\n"
     ]
    },
    {
     "name": "stderr",
     "output_type": "stream",
     "text": [
      "C:\\Users\\zhaox\\AppData\\Roaming\\Python\\Python36\\site-packages\\sklearn\\metrics\\classification.py:1135: UndefinedMetricWarning: Precision is ill-defined and being set to 0.0 in labels with no predicted samples.\n",
      "  'precision', 'predicted', average, warn_for)\n",
      "C:\\Users\\zhaox\\AppData\\Roaming\\Python\\Python36\\site-packages\\sklearn\\metrics\\classification.py:1135: UndefinedMetricWarning: F-score is ill-defined and being set to 0.0 in labels with no predicted samples.\n",
      "  'precision', 'predicted', average, warn_for)\n"
     ]
    }
   ],
   "source": [
    "testlab0R = pd.DataFrame(y_train)\n",
    "testlab0R.groupby('character').size()\n",
    "# HAN         341\n",
    "# LEIA        167\n",
    "# LUKE        375\n",
    "# THREEPIO    231\n",
    "# VADER       101\n",
    "d = pd.Series('LUKE', index=range(406))\n",
    "\n",
    "#Accuracy score:  0.2953846153846154\n",
    "#Precision score:  0.05907692307692308\n",
    "#Recall score:  0.2\n",
    "#F1 score:  0.09121140142517817\n",
    "print('Accuracy score: ', format(accuracy_score(y_test, d)))\n",
    "print('Precision score: ', format(precision_score(y_test, d, average = 'macro')))\n",
    "print('Recall score: ', format(recall_score(y_test, d, average = 'macro')))\n",
    "print('F1 score: ', format(f1_score(y_test, d, average = 'macro')))\n"
   ]
  },
  {
   "cell_type": "markdown",
   "metadata": {},
   "source": [
    "## LR"
   ]
  },
  {
   "cell_type": "code",
   "execution_count": 28,
   "metadata": {
    "ExecuteTime": {
     "end_time": "2018-07-15T08:28:06.651074Z",
     "start_time": "2018-07-15T08:27:59.149381Z"
    }
   },
   "outputs": [
    {
     "name": "stdout",
     "output_type": "stream",
     "text": [
      "8791\n"
     ]
    }
   ],
   "source": [
    "classifier = Pipeline([\n",
    "    ('features', FeatureUnion([\n",
    "#         ('text', Pipeline([\n",
    "#             ('vectorizer', vectorizer),\n",
    "#             ('tfidf', TfidfTransformer()),\n",
    "#         ])),\n",
    "        ('text 2-gram', Pipeline([\n",
    "            ('vectorizer', CountVectorizer(ngram_range=(1,2))),\n",
    "#             ('tfidf', TfidfTransformer()),\n",
    "        ])),\n",
    "        ('count', FunctionTransformer(get_text_length, validate=False)),\n",
    "        ('get_questions', FunctionTransformer(get_questions, validate=False)),\n",
    "        ('get_exclaimation', FunctionTransformer(get_exclaimation, validate=False)),\n",
    "        ('get_question_words', FunctionTransformer(get_question_words, validate=False)),\n",
    "        ('get_char_names', FunctionTransformer(get_char_names, validate=False)),\n",
    "        ('get_gazetteer', FunctionTransformer(get_gazetteer, validate=False)),\n",
    "        ('get_senti_score', FunctionTransformer(get_senti_score, validate=False)), \n",
    "#         ('get_location', FunctionTransformer(get_location, validate=False)), \n",
    "#         ('get_pos_pecent', FunctionTransformer(get_pos_pecent, validate=False)), \n",
    "    ])),\n",
    "    \n",
    "#     ('mutual_info', SelectKBest(mutual_info_classif, k=5000)),\n",
    "    \n",
    "#     ('mutual_info', SelectKBest(chi2, k=1000)),\n",
    "#     ('scale', StandardScaler(with_mean=False)),\n",
    "    ('clf', LogisticRegression(multi_class = \"ovr\", solver=\"newton-cg\"))])\n",
    "classifier.fit(X_train, y_train)\n",
    "predictions_lr = classifier.predict(X_test)\n",
    "print(len(classifier.steps[-1][1].coef_[0]))"
   ]
  },
  {
   "cell_type": "code",
   "execution_count": 268,
   "metadata": {
    "ExecuteTime": {
     "end_time": "2018-07-15T08:42:03.441545Z",
     "start_time": "2018-07-15T08:42:03.434559Z"
    }
   },
   "outputs": [],
   "source": [
    "def show_most_informative_features(vectorizer, clf, n=10, index = 0):\n",
    "    feature_names = vectorizer.get_feature_names()\n",
    "    coefs_with_fns = sorted(zip(clf.coef_[index], feature_names))\n",
    "    top = zip(coefs_with_fns[:n], coefs_with_fns[:-(n + 1):-1])\n",
    "    print(\"Most Informative Features for Class:\", name_mapping[index])\n",
    "    for (coef_1, fn_1), (coef_2, fn_2) in top:\n",
    "        print(\"coef:{:.5f}\\t word:{}\\t\\tcoef:{:.5f}\\tword:{}\".format(coef_1, str(fn_1), coef_2, str(fn_2)))"
   ]
  },
  {
   "cell_type": "code",
   "execution_count": 203,
   "metadata": {
    "ExecuteTime": {
     "end_time": "2018-07-15T07:56:11.136547Z",
     "start_time": "2018-07-15T07:56:10.903172Z"
    }
   },
   "outputs": [
    {
     "data": {
      "text/plain": [
       "CountVectorizer(analyzer='word', binary=False, decode_error='strict',\n",
       "        dtype=<class 'numpy.int64'>, encoding='utf-8', input='content',\n",
       "        lowercase=True, max_df=1.0, max_features=None, min_df=1,\n",
       "        ngram_range=(1, 2), preprocessor=None, stop_words=None,\n",
       "        strip_accents=None, token_pattern='(?u)\\\\b\\\\w\\\\w+\\\\b',\n",
       "        tokenizer=None, vocabulary=None)"
      ]
     },
     "execution_count": 203,
     "metadata": {},
     "output_type": "execute_result"
    }
   ],
   "source": [
    "vec = CountVectorizer(ngram_range=(1,2))\n",
    "vec.fit(X_train)"
   ]
  },
  {
   "cell_type": "code",
   "execution_count": 269,
   "metadata": {
    "ExecuteTime": {
     "end_time": "2018-07-15T08:42:05.951659Z",
     "start_time": "2018-07-15T08:42:05.714724Z"
    },
    "collapsed": true
   },
   "outputs": [
    {
     "name": "stdout",
     "output_type": "stream",
     "text": [
      "Most Informative Features for Class: Han\n",
      "coef:-0.78018\t word:no\tcoef:0.63872\tword:chewie\n",
      "coef:-0.66169\t word:artoo\tcoef:0.57690\tword:where\n",
      "coef:-0.58007\t word:princess leia\tcoef:0.54570\tword:see\n",
      "coef:-0.51655\t word:oh\tcoef:0.52264\tword:look\n",
      "coef:-0.48136\t word:are you\tcoef:0.42731\tword:luke\n",
      "coef:-0.40126\t word:han\tcoef:0.39335\tword:better\n",
      "coef:-0.40072\t word:help\tcoef:0.37256\tword:sorry\n",
      "coef:-0.39338\t word:threepio\tcoef:0.36763\tword:princess\n",
      "coef:-0.36663\t word:right\tcoef:0.36743\tword:you all\n",
      "coef:-0.35843\t word:never\tcoef:0.33859\tword:hyperdrive\n",
      "Most Informative Features for Class: Leia\n",
      "coef:-0.59884\t word:luke\tcoef:0.73436\tword:oh\n",
      "coef:-0.53749\t word:artoo\tcoef:0.57580\tword:luke luke\n",
      "coef:-0.47803\t word:good\tcoef:0.48767\tword:can\n",
      "coef:-0.47138\t word:see\tcoef:0.40013\tword:that right\n",
      "coef:-0.46814\t word:yeah\tcoef:0.36023\tword:yes\n",
      "coef:-0.43491\t word:where\tcoef:0.34798\tword:afraid\n",
      "coef:-0.42491\t word:right\tcoef:0.28193\tword:okay easy\n",
      "coef:-0.39242\t word:look\tcoef:0.25588\tword:asteroids\n",
      "coef:-0.35296\t word:chewie\tcoef:0.25065\tword:ugh\n",
      "coef:-0.34333\t word:princess\tcoef:0.24823\tword:let go\n",
      "Most Informative Features for Class: Luke\n",
      "coef:-0.63794\t word:luke\tcoef:0.79277\tword:artoo\n",
      "coef:-0.53950\t word:chewie\tcoef:0.55830\tword:right\n",
      "coef:-0.48982\t word:oh\tcoef:0.49559\tword:are you\n",
      "coef:-0.43574\t word:know\tcoef:0.45937\tword:threepio\n",
      "coef:-0.42859\t word:lando\tcoef:0.43856\tword:help\n",
      "coef:-0.37111\t word:where\tcoef:0.41245\tword:never\n",
      "coef:-0.36223\t word:that right\tcoef:0.38809\tword:no\n",
      "coef:-0.34860\t word:can\tcoef:0.37469\tword:yoda\n",
      "coef:-0.34213\t word:better\tcoef:0.37288\tword:care\n",
      "coef:-0.33354\t word:look\tcoef:0.35901\tword:luck lando\n",
      "Most Informative Features for Class: Threepio\n",
      "coef:-0.38371\t word:luke\tcoef:0.49784\tword:princess leia\n",
      "coef:-0.36728\t word:no\tcoef:0.40392\tword:what that\n",
      "coef:-0.35596\t word:know\tcoef:0.38792\tword:minute where\n",
      "coef:-0.33107\t word:yeah\tcoef:0.32250\tword:sir\n",
      "coef:-0.31811\t word:chewie\tcoef:0.28452\tword:door artoo\n",
      "coef:-0.30781\t word:right\tcoef:0.27825\tword:yes sir\n",
      "coef:-0.30232\t word:lando\tcoef:0.27228\tword:oh dear\n",
      "coef:-0.30143\t word:good\tcoef:0.27228\tword:dear\n",
      "coef:-0.27050\t word:can\tcoef:0.24343\tword:oh no\n",
      "coef:-0.23753\t word:han\tcoef:0.24148\tword:wait wait\n",
      "Most Informative Features for Class: Vader\n",
      "coef:-0.38050\t word:know\tcoef:0.26103\tword:yes admiral\n",
      "coef:-0.34522\t word:where\tcoef:0.23208\tword:yes my\n",
      "coef:-0.34516\t word:yeah\tcoef:0.22761\tword:is here\n",
      "coef:-0.34061\t word:no\tcoef:0.20746\tword:luke\n",
      "coef:-0.33624\t word:good\tcoef:0.19477\tword:admiral\n",
      "coef:-0.32594\t word:right\tcoef:0.18931\tword:my master\n",
      "coef:-0.29555\t word:lando\tcoef:0.18598\tword:you now\n",
      "coef:-0.29523\t word:can\tcoef:0.18393\tword:you wish\n",
      "coef:-0.29043\t word:artoo\tcoef:0.15700\tword:as you\n",
      "coef:-0.25465\t word:look\tcoef:0.13957\tword:have felt\n"
     ]
    }
   ],
   "source": [
    "for i in range(n_classes):\n",
    "    show_most_informative_features(vec, classifier.steps[2][1], index=i)"
   ]
  },
  {
   "cell_type": "code",
   "execution_count": 29,
   "metadata": {
    "ExecuteTime": {
     "end_time": "2018-07-15T07:49:08.205245Z",
     "start_time": "2018-07-15T07:49:08.176322Z"
    }
   },
   "outputs": [
    {
     "name": "stdout",
     "output_type": "stream",
     "text": [
      "Accuracy score:  0.4827586206896552\n",
      "Precision score:  0.5109944706456335\n",
      "Recall score:  0.4566830259379163\n",
      "F1 score:  0.4752295769128624\n"
     ]
    }
   ],
   "source": [
    "print('Accuracy score: ', format(accuracy_score(y_test, predictions_lr)))\n",
    "print('Precision score: ', format(precision_score(y_test, predictions_lr, average = 'macro')))\n",
    "print('Recall score: ', format(recall_score(y_test, predictions_lr, average = 'macro')))\n",
    "print('F1 score: ', format(f1_score(y_test, predictions_lr, average = 'macro')))"
   ]
  },
  {
   "cell_type": "code",
   "execution_count": 172,
   "metadata": {
    "ExecuteTime": {
     "end_time": "2018-07-15T06:49:30.528002Z",
     "start_time": "2018-07-15T06:49:30.498082Z"
    }
   },
   "outputs": [
    {
     "name": "stdout",
     "output_type": "stream",
     "text": [
      "Accuracy score:  0.4827586206896552\n",
      "Precision score:  0.5086427482939111\n",
      "Recall score:  0.4566830259379163\n",
      "F1 score:  0.47431411475602425\n"
     ]
    }
   ],
   "source": [
    "### raw BOW\n",
    "print('Accuracy score: ', format(accuracy_score(y_test, predictions_lr)))\n",
    "print('Precision score: ', format(precision_score(y_test, predictions_lr, average = 'macro')))\n",
    "print('Recall score: ', format(recall_score(y_test, predictions_lr, average = 'macro')))\n",
    "print('F1 score: ', format(f1_score(y_test, predictions_lr, average = 'macro')))"
   ]
  },
  {
   "cell_type": "code",
   "execution_count": 41,
   "metadata": {},
   "outputs": [
    {
     "data": {
      "text/plain": [
       "[Text(0,0.5,'han'),\n",
       " Text(0,1.5,'leia'),\n",
       " Text(0,2.5,'luke'),\n",
       " Text(0,3.5,'threepio'),\n",
       " Text(0,4.5,'vader')]"
      ]
     },
     "execution_count": 41,
     "metadata": {},
     "output_type": "execute_result"
    },
    {
     "data": {
      "image/png": "[encoded data removed]",
      "text/plain": [
       "<matplotlib.figure.Figure at 0x206253d3278>"
      ]
     },
     "metadata": {},
     "output_type": "display_data"
    }
   ],
   "source": [
    "#Create confusion matrix and heatmap\n",
    "confusion_lr = confusion_matrix(y_test, predictions_lr)\n",
    "df_confusion = pd.DataFrame(confusion_lr)\n",
    "fig = plt.figure(figsize=(8,8))\n",
    "ax = fig.add_subplot(sns.heatmap(df_confusion, annot=True))\n",
    "plt.title('Multinomial Logisitic Regression \\nAccuracy: {0:.5f}'.format(accuracy_score(y_test, predictions_lr)))\n",
    "plt.ylabel('Target Class')\n",
    "plt.xlabel('Predicted Class')\n",
    "ax.tick_params(axis='both', which='major', labelsize=10)\n",
    "ax.set_xticklabels(sorted(char_names))\n",
    "ax.set_yticklabels(sorted(char_names))\n"
   ]
  },
  {
   "cell_type": "markdown",
   "metadata": {},
   "source": [
    "## AUC"
   ]
  },
  {
   "cell_type": "code",
   "execution_count": 12,
   "metadata": {
    "ExecuteTime": {
     "end_time": "2018-07-15T05:53:08.935725Z",
     "start_time": "2018-07-15T05:53:08.590148Z"
    }
   },
   "outputs": [],
   "source": [
    "y_auc = label_binarize(y, classes=['HAN','LEIA','LUKE','THREEPIO','VADER'])\n",
    "n_classes = y_auc.shape[1]\n",
    "\n",
    "X_train_auc, X_test_auc, y_train_auc, y_test_auc = train_test_split(X, y_auc, random_state = seed)\n",
    "\n",
    "classifier = OneVsRestClassifier(LogisticRegression(multi_class = \"multinomial\",solver= \"newton-cg\", random_state = seed ))\n"
   ]
  },
  {
   "cell_type": "code",
   "execution_count": 16,
   "metadata": {
    "ExecuteTime": {
     "end_time": "2018-07-15T08:54:57.952101Z",
     "start_time": "2018-07-15T08:54:39.060452Z"
    }
   },
   "outputs": [
    {
     "data": {
      "text/plain": [
       "OneVsRestClassifier(estimator=Pipeline(memory=None,\n",
       "     steps=[('features', FeatureUnion(n_jobs=1,\n",
       "       transformer_list=[('text 2-gram', Pipeline(memory=None,\n",
       "     steps=[('vectorizer', CountVectorizer(analyzer='word', binary=False, decode_error='strict',\n",
       "        dtype=<class 'numpy.int64'>, encoding='utf-8', input='content',\n",
       "        lowercase=True, m...ty='l2', random_state=None, solver='liblinear', tol=0.0001,\n",
       "          verbose=0, warm_start=False))]),\n",
       "          n_jobs=1)"
      ]
     },
     "execution_count": 16,
     "metadata": {},
     "output_type": "execute_result"
    }
   ],
   "source": [
    "classifier = Pipeline([\n",
    "    ('features', FeatureUnion([\n",
    "#         ('text', Pipeline([\n",
    "#             ('vectorizer', vectorizer),\n",
    "#             ('tfidf', TfidfTransformer()),\n",
    "#         ])),\n",
    "        ('text 2-gram', Pipeline([\n",
    "            ('vectorizer', CountVectorizer(ngram_range=(1,2))),\n",
    "#             ('tfidf', TfidfTransformer()),\n",
    "        ])),\n",
    "        ('count', FunctionTransformer(get_text_length, validate=False)),\n",
    "        ('get_questions', FunctionTransformer(get_questions, validate=False)),\n",
    "        ('get_exclaimation', FunctionTransformer(get_exclaimation, validate=False)),\n",
    "        ('get_question_words', FunctionTransformer(get_question_words, validate=False)),\n",
    "        ('get_char_names', FunctionTransformer(get_char_names, validate=False)),\n",
    "        ('get_gazetteer', FunctionTransformer(get_gazetteer, validate=False)),\n",
    "        ('get_senti_score', FunctionTransformer(get_senti_score, validate=False)), \n",
    "#         ('get_location', FunctionTransformer(get_location, validate=False)), \n",
    "#         ('get_pos_pecent', FunctionTransformer(get_pos_pecent, validate=False)), \n",
    "    ])),\n",
    "    \n",
    "#     ('mutual_info', SelectKBest(mutual_info_classif, k=5000)),\n",
    "    \n",
    "#     ('mutual_info', SelectKBest(chi2, k=1000)),\n",
    "    ('clf', LogisticRegression(multi_class = \"ovr\"))])\n",
    "\n",
    "classifier_one = OneVsRestClassifier(classifier)\n",
    "classifier_one.fit(X_train_auc, y_train_auc)"
   ]
  },
  {
   "cell_type": "code",
   "execution_count": 17,
   "metadata": {
    "ExecuteTime": {
     "end_time": "2018-07-15T08:55:06.969707Z",
     "start_time": "2018-07-15T08:55:00.098667Z"
    }
   },
   "outputs": [],
   "source": [
    "y_score = classifier_one.decision_function(X_test_auc)"
   ]
  },
  {
   "cell_type": "code",
   "execution_count": 18,
   "metadata": {
    "ExecuteTime": {
     "end_time": "2018-07-15T08:55:20.218991Z",
     "start_time": "2018-07-15T08:55:19.864433Z"
    }
   },
   "outputs": [
    {
     "data": {
      "image/png": "[encoded data removed]",
      "text/plain": [
       "<matplotlib.figure.Figure at 0x2062507eac8>"
      ]
     },
     "metadata": {},
     "output_type": "display_data"
    }
   ],
   "source": [
    "fpr = dict()\n",
    "tpr = dict()\n",
    "roc_auc = dict()\n",
    "for i in range(n_classes):\n",
    "    fpr[i], tpr[i], _ = roc_curve(y_test_auc[:, i], y_score[:, i])\n",
    "    roc_auc[i] = auc(fpr[i], tpr[i])\n",
    "    \n",
    "# Compute micro-average ROC curve and ROC area\n",
    "fpr[\"micro\"], tpr[\"micro\"], _ = roc_curve(y_test_auc.ravel(), y_score.ravel())\n",
    "roc_auc[\"micro\"] = auc(fpr[\"micro\"], tpr[\"micro\"])\n",
    "\n",
    "# Compute macro-average ROC curve and ROC area\n",
    "\n",
    "# First aggregate all false positive rates\n",
    "all_fpr = np.unique(np.concatenate([fpr[i] for i in range(n_classes)]))\n",
    "# Then interpolate all ROC curves at this points\n",
    "mean_tpr = np.zeros_like(all_fpr)\n",
    "for i in range(n_classes):\n",
    "    mean_tpr += interp(all_fpr, fpr[i], tpr[i])\n",
    "\n",
    "# Finally average it and compute AUC\n",
    "mean_tpr /= n_classes\n",
    "\n",
    "fpr[\"macro\"] = all_fpr\n",
    "tpr[\"macro\"] = mean_tpr\n",
    "roc_auc[\"macro\"] = auc(fpr[\"macro\"], tpr[\"macro\"])\n",
    "\n",
    "# Plot all ROC curves\n",
    "plt.figure(figsize=(9,8))\n",
    "plt.plot(fpr[\"micro\"], tpr[\"micro\"],\n",
    "         label='micro-avg ROC(area = {0:0.2f})'\n",
    "               ''.format(roc_auc[\"micro\"]),\n",
    "         color='deeppink', linestyle=':', linewidth=4)\n",
    "\n",
    "plt.plot(fpr[\"macro\"], tpr[\"macro\"],\n",
    "         label='macro-avg ROC(area = {0:0.2f})'\n",
    "               ''.format(roc_auc[\"macro\"]),\n",
    "         color='navy', linestyle=':', linewidth=4)\n",
    "\n",
    "name = \"\"\n",
    "colors = cycle(['lightgreen', 'darkorange', 'cornflowerblue', 'yellow', 'black'])\n",
    "for i, color in zip(range(n_classes), colors):\n",
    "    name = name_mapping[i]\n",
    "    plt.plot(fpr[i], tpr[i], color=color, lw=2,\n",
    "             label='ROC {0} (area = {1:0.2f})'\n",
    "             ''.format(name, roc_auc[i]))\n",
    "\n",
    "plt.plot([0, 1], [0, 1], 'k--', lw=2)\n",
    "plt.xlim([0.0, 1.0])\n",
    "plt.ylim([0.0, 1.05])\n",
    "plt.xlabel('False Positive Rate')\n",
    "plt.ylabel('True Positive Rate')\n",
    "plt.title('StarWars Multiclass ROC')\n",
    "plt.legend(loc=\"lower right\")\n",
    "plt.show()"
   ]
  },
  {
   "cell_type": "markdown",
   "metadata": {
    "heading_collapsed": true
   },
   "source": [
    "## Naive bayes"
   ]
  },
  {
   "cell_type": "code",
   "execution_count": 155,
   "metadata": {
    "ExecuteTime": {
     "end_time": "2018-07-14T06:09:14.444841Z",
     "start_time": "2018-07-14T06:09:14.368050Z"
    },
    "hidden": true
   },
   "outputs": [],
   "source": [
    "classifier = Pipeline([\n",
    "    ('features', FeatureUnion([\n",
    "        ('text', Pipeline([\n",
    "            ('vectorizer', stem_vectorizer),\n",
    "#             ('tfidf', TfidfTransformer()),\n",
    "        ])),\n",
    "#         ('length', Pipeline([\n",
    "#             ('count', FunctionTransformer(get_text_length, validate=False)),\n",
    "#         ])),\n",
    "#         ('questions', Pipeline([\n",
    "#             ('q', FunctionTransformer(get_questions, validate=False)),\n",
    "#         ])),\n",
    "#         ('exclaimation', Pipeline([\n",
    "#             ('e', FunctionTransformer(get_exclaimation, validate=False)),\n",
    "#         ])),\n",
    "#         ('get_question_words', Pipeline([\n",
    "#             ('g', FunctionTransformer(get_question_words, validate=False)),\n",
    "#         ])),\n",
    "#         ('get_charc_names', Pipeline([\n",
    "#             ('n', FunctionTransformer(get_charc_names, validate=False)),\n",
    "#         ]))\n",
    "    ])),\n",
    "    ('clf', MultinomialNB())])\n",
    "classifier.fit(X_train, y_train)\n",
    "predictions_nb = classifier.predict(X_test)"
   ]
  },
  {
   "cell_type": "code",
   "execution_count": 156,
   "metadata": {
    "ExecuteTime": {
     "end_time": "2018-07-14T06:09:15.590321Z",
     "start_time": "2018-07-14T06:09:15.585335Z"
    },
    "hidden": true
   },
   "outputs": [
    {
     "name": "stdout",
     "output_type": "stream",
     "text": [
      "1339\n"
     ]
    }
   ],
   "source": [
    "print(len(classifier.steps[1][1].coef_[0]))"
   ]
  },
  {
   "cell_type": "code",
   "execution_count": 157,
   "metadata": {
    "ExecuteTime": {
     "end_time": "2018-07-14T11:11:24.216351Z",
     "start_time": "2018-07-14T11:11:24.163495Z"
    },
    "hidden": true
   },
   "outputs": [
    {
     "name": "stdout",
     "output_type": "stream",
     "text": [
      "Accuracy score:  0.5049261083743842\n",
      "Precision score:  0.5263517737686536\n",
      "Recall score:  0.464348200818789\n",
      "F1 score:  0.4747011129943203\n"
     ]
    }
   ],
   "source": [
    "print('Accuracy score: ', format(accuracy_score(y_test, predictions_nb)))\n",
    "print('Precision score: ', format(precision_score(y_test, predictions_nb, average = 'macro')))\n",
    "print('Recall score: ', format(recall_score(y_test, predictions_nb, average = 'macro')))\n",
    "print('F1 score: ', format(f1_score(y_test, predictions_nb, average = 'macro')))"
   ]
  },
  {
   "cell_type": "markdown",
   "metadata": {},
   "source": [
    "## RF"
   ]
  },
  {
   "cell_type": "code",
   "execution_count": 312,
   "metadata": {
    "ExecuteTime": {
     "end_time": "2018-07-14T12:04:41.321338Z",
     "start_time": "2018-07-14T12:04:37.610488Z"
    }
   },
   "outputs": [],
   "source": [
    "classifier = Pipeline([\n",
    "    ('features', FeatureUnion([\n",
    "        ('text', Pipeline([\n",
    "            ('vectorizer', stem_vectorizer),\n",
    "            ('tfidf', TfidfTransformer()),\n",
    "        ])),\n",
    "#         ('length', Pipeline([\n",
    "#             ('count', FunctionTransformer(get_text_length, validate=False)),\n",
    "#         ])),\n",
    "#         ('questions', Pipeline([\n",
    "#             ('q', FunctionTransformer(get_questions, validate=False)),\n",
    "#         ])),\n",
    "#         ('exclaimation', Pipeline([\n",
    "#             ('e', FunctionTransformer(get_exclaimation, validate=False)),\n",
    "#         ])),\n",
    "#         ('get_question_words', Pipeline([\n",
    "#             ('g', FunctionTransformer(get_question_words, validate=False)),\n",
    "#         ])),\n",
    "        ('get_char_names', Pipeline([\n",
    "            ('n', FunctionTransformer(get_char_names, validate=False)),\n",
    "        ])),\n",
    "#         ('get_gazetteer', Pipeline([\n",
    "#             ('get_gazetteer', FunctionTransformer(get_gazetteer, validate=False)),\n",
    "#         ])),\n",
    "#         ('get_senti_score', Pipeline([\n",
    "#             ('g', FunctionTransformer(get_senti_score, validate=False)),\n",
    "#         ])),\n",
    "    ])),\n",
    "    ('clf', RandomForestClassifier(n_estimators=100, random_state=seed, n_jobs=-1))])\n",
    "classifier.fit(X_train, y_train)\n",
    "predictions_rf = classifier.predict(X_test)"
   ]
  },
  {
   "cell_type": "code",
   "execution_count": 313,
   "metadata": {
    "ExecuteTime": {
     "end_time": "2018-07-14T12:04:06.511016Z",
     "start_time": "2018-07-14T12:04:06.396324Z"
    }
   },
   "outputs": [
    {
     "name": "stdout",
     "output_type": "stream",
     "text": [
      "Accuracy score:  0.47783251231527096\n",
      "Precision score:  0.47815456496137154\n",
      "Recall score:  0.460102001687246\n",
      "F1 score:  0.46457355343377704\n"
     ]
    }
   ],
   "source": [
    "print('Accuracy score: ', format(accuracy_score(y_test, predictions_rf)))\n",
    "print('Precision score: ', format(precision_score(y_test, predictions_rf, average = 'macro')))\n",
    "print('Recall score: ', format(recall_score(y_test, predictions_rf, average = 'macro')))\n",
    "print('F1 score: ', format(f1_score(y_test, predictions_rf, average = 'macro')))"
   ]
  },
  {
   "cell_type": "code",
   "execution_count": 307,
   "metadata": {
    "ExecuteTime": {
     "end_time": "2018-07-14T12:04:43.813351Z",
     "start_time": "2018-07-14T12:04:43.699653Z"
    }
   },
   "outputs": [
    {
     "name": "stdout",
     "output_type": "stream",
     "text": [
      "Accuracy score:  0.458128078817734\n",
      "Precision score:  0.5189098932883616\n",
      "Recall score:  0.4248302710914874\n",
      "F1 score:  0.4490034618192217\n"
     ]
    }
   ],
   "source": [
    "print('Accuracy score: ', format(accuracy_score(y_test, predictions_rf)))\n",
    "print('Precision score: ', format(precision_score(y_test, predictions_rf, average = 'macro')))\n",
    "print('Recall score: ', format(recall_score(y_test, predictions_rf, average = 'macro')))\n",
    "print('F1 score: ', format(f1_score(y_test, predictions_rf, average = 'macro')))"
   ]
  },
  {
   "cell_type": "markdown",
   "metadata": {},
   "source": [
    "## XGBoost"
   ]
  },
  {
   "cell_type": "code",
   "execution_count": 76,
   "metadata": {
    "ExecuteTime": {
     "end_time": "2018-07-15T05:06:18.695213Z",
     "start_time": "2018-07-15T05:05:42.412517Z"
    },
    "scrolled": true
   },
   "outputs": [
    {
     "name": "stderr",
     "output_type": "stream",
     "text": [
      "C:\\Users\\Simon\\Anaconda3\\lib\\site-packages\\sklearn\\preprocessing\\label.py:151: DeprecationWarning: The truth value of an empty array is ambiguous. Returning False, but in future this will result in an error. Use `array.size > 0` to check that an array is not empty.\n",
      "  if diff:\n"
     ]
    }
   ],
   "source": [
    "classifier = Pipeline([\n",
    "    ('features', FeatureUnion([\n",
    "#         ('text', Pipeline([\n",
    "#             ('vectorizer', vectorizer),\n",
    "#             ('tfidf', TfidfTransformer()),\n",
    "#         ])),\n",
    "        ('text 2-gram', Pipeline([\n",
    "            ('vectorizer', CountVectorizer(ngram_range=(1,2))),\n",
    "            ('tfidf', TfidfTransformer()),\n",
    "        ])),\n",
    "#         ('count', FunctionTransformer(get_text_length, validate=False)),\n",
    "        ('q', FunctionTransformer(get_questions, validate=False)),\n",
    "        ('e', FunctionTransformer(get_exclaimation, validate=False)),\n",
    "        ('g', FunctionTransformer(get_question_words, validate=False)),\n",
    "        ('n', FunctionTransformer(get_char_names, validate=False)),\n",
    "#         ('get_gazetteer', FunctionTransformer(get_gazetteer, validate=False)),\n",
    "#         ('get_senti_score', FunctionTransformer(get_senti_score, validate=False)),           \n",
    "#     ('mutual_info', SelectKBest(mutual_info_classif, k=5000)), \n",
    "#     ('mutual_info', SelectKBest(chi2, k=1000)),\n",
    "    ])),\n",
    "    ('clf', XGBClassifier(n_estimators=1000,random_state=seed))])\n",
    "classifier.fit(X_train, y_train)\n",
    "predictions_xgb = classifier.predict(X_test)"
   ]
  },
  {
   "cell_type": "code",
   "execution_count": 77,
   "metadata": {
    "ExecuteTime": {
     "end_time": "2018-07-15T05:08:14.216328Z",
     "start_time": "2018-07-15T05:08:14.198402Z"
    }
   },
   "outputs": [
    {
     "name": "stdout",
     "output_type": "stream",
     "text": [
      "Accuracy score:  0.4236453201970443\n",
      "Precision score:  0.4603190830334262\n",
      "Recall score:  0.4030403920038525\n",
      "F1 score:  0.4197090428345504\n"
     ]
    }
   ],
   "source": [
    "print('Accuracy score: ', format(accuracy_score(y_test, predictions_xgb)))\n",
    "print('Precision score: ', format(precision_score(y_test, predictions_xgb, average = 'macro')))\n",
    "print('Recall score: ', format(recall_score(y_test, predictions_xgb, average = 'macro')))\n",
    "print('F1 score: ', format(f1_score(y_test, predictions_xgb, average = 'macro')))"
   ]
  },
  {
   "cell_type": "code",
   "execution_count": 163,
   "metadata": {},
   "outputs": [
    {
     "name": "stdout",
     "output_type": "stream",
     "text": [
      "Accuracy score:  0.4827586206896552\n",
      "Precision score:  0.5118065938278704\n",
      "Recall score:  0.4330964615311574\n",
      "F1 score:  0.43689384528316655\n"
     ]
    },
    {
     "name": "stderr",
     "output_type": "stream",
     "text": [
      "C:\\Users\\zhaox\\AppData\\Roaming\\Python\\Python36\\site-packages\\sklearn\\preprocessing\\label.py:151: DeprecationWarning: The truth value of an empty array is ambiguous. Returning False, but in future this will result in an error. Use `array.size > 0` to check that an array is not empty.\n",
      "  if diff:\n"
     ]
    }
   ],
   "source": [
    "predictions_svm = classifier.predict(X_test)\n",
    "print('Accuracy score: ', format(accuracy_score(y_test, predictions_svm)))\n",
    "print('Precision score: ', format(precision_score(y_test, predictions_svm, average = 'macro')))\n",
    "print('Recall score: ', format(recall_score(y_test, predictions_svm, average = 'macro')))\n",
    "print('F1 score: ', format(f1_score(y_test, predictions_svm, average = 'macro')))"
   ]
  },
  {
   "cell_type": "markdown",
   "metadata": {
    "heading_collapsed": true
   },
   "source": [
    "# fasttext"
   ]
  },
  {
   "cell_type": "markdown",
   "metadata": {
    "hidden": true
   },
   "source": [
    "https://fasttext.cc/docs/en/supervised-tutorial.html\n",
    "\n",
    "https://towardsdatascience.com/word-embedding-with-word2vec-and-fasttext-a209c1d3e12c\n",
    "\n",
    "https://github.com/RaRe-Technologies/gensim/blob/develop/docs/notebooks/FastText_Tutorial.ipynb\n",
    "\n",
    "http://ai.intelligentonlinetools.com/ml/fasttext-word-embeddings-text-classification-python-mlp/"
   ]
  },
  {
   "cell_type": "code",
   "execution_count": 80,
   "metadata": {
    "ExecuteTime": {
     "end_time": "2018-07-14T08:59:51.377233Z",
     "start_time": "2018-07-14T08:48:50.852590Z"
    },
    "hidden": true
   },
   "outputs": [
    {
     "name": "stdout",
     "output_type": "stream",
     "text": [
      "[('desks', 0.7923153638839722), ('Desk', 0.6869950890541077), ('desk.', 0.6602819561958313), ('desk-', 0.6187258958816528), ('credenza', 0.595531702041626), ('roll-top', 0.5875717401504517), ('rolltop', 0.5837830305099487), ('bookshelf', 0.5758029818534851), ('Desks', 0.5755287408828735), ('sofa', 0.5617446899414062)]\n"
     ]
    }
   ],
   "source": [
    "from gensim.models import KeyedVectors\n",
    "model = KeyedVectors.load_word2vec_format('./pretrained/wiki-news-300d-1M.vec')\n",
    "\n",
    "print (model.most_similar('desk'))"
   ]
  },
  {
   "cell_type": "code",
   "execution_count": 164,
   "metadata": {
    "hidden": true
   },
   "outputs": [],
   "source": [
    "X_new = X.apply(str.split)"
   ]
  },
  {
   "cell_type": "code",
   "execution_count": 165,
   "metadata": {
    "ExecuteTime": {
     "end_time": "2018-07-14T09:36:22.120623Z",
     "start_time": "2018-07-14T09:36:20.312221Z"
    },
    "hidden": true
   },
   "outputs": [],
   "source": [
    "model_film = FastText(X_new, size=200)"
   ]
  },
  {
   "cell_type": "code",
   "execution_count": 166,
   "metadata": {
    "ExecuteTime": {
     "end_time": "2018-07-14T09:01:45.864554Z",
     "start_time": "2018-07-14T09:01:45.668811Z"
    },
    "hidden": true
   },
   "outputs": [
    {
     "name": "stdout",
     "output_type": "stream",
     "text": [
      "[ 0.18945178 -0.10875528  0.07031621  0.0363139  -0.09122859 -0.07991193\n",
      " -0.05714969 -0.0624925  -0.09999298  0.15876235  0.05038403  0.05869505\n",
      "  0.02520633 -0.12194363  0.0338432   0.07961266 -0.03158679 -0.06874112\n",
      "  0.15780747 -0.01477579 -0.07078864 -0.04308448  0.0304283   0.02980639\n",
      " -0.02642369  0.01037166 -0.06771374 -0.04425424  0.09786908 -0.00817189\n",
      " -0.02048106 -0.02561992  0.02241291 -0.00725531  0.12413937 -0.08870913\n",
      " -0.060411   -0.08558942 -0.11058029  0.09972127 -0.1403695   0.06240801\n",
      " -0.17575118  0.10926148  0.15739037  0.13806279  0.02938094  0.02050609\n",
      " -0.03481352  0.10561359 -0.08532856 -0.06313713 -0.12478014  0.00459811\n",
      " -0.16219774 -0.09041394  0.0317265  -0.02027912 -0.00108909 -0.12976623\n",
      "  0.04285639  0.13780399 -0.00918725 -0.18472242  0.0386099  -0.03203791\n",
      " -0.1797121  -0.14448127 -0.04208865 -0.02331364 -0.09447408 -0.00559809\n",
      " -0.05729965  0.07062617  0.03486917  0.04821441  0.01467768 -0.14478835\n",
      "  0.10307286  0.2057809   0.06074817  0.1187161   0.04419956 -0.10070492\n",
      "  0.04104174 -0.02632364  0.06284067  0.11590376  0.2059124  -0.07502807\n",
      " -0.05064587 -0.05081594  0.02452763  0.04893924  0.09045931 -0.20611782\n",
      " -0.09404932 -0.03240289  0.03874915  0.05337687  0.07683479  0.08362177\n",
      "  0.21859673 -0.08571772  0.13886084  0.107665    0.04972015 -0.03597228\n",
      " -0.07101093  0.24967432  0.0541429   0.18418244  0.02423775 -0.02218916\n",
      "  0.05501068 -0.06220963 -0.06067438 -0.1650031  -0.05954714  0.00169759\n",
      " -0.03445355 -0.16022503 -0.01728576  0.01558039  0.00348438 -0.07683032\n",
      "  0.01801266 -0.03148315  0.0371402   0.03619269 -0.03855741  0.02271556\n",
      " -0.12390763  0.07328604  0.16965576  0.12646183 -0.10466739  0.00222385\n",
      " -0.00951125  0.11915304  0.00962656  0.13595891  0.08211463  0.1170624\n",
      " -0.12128149 -0.03618842  0.01518702  0.17765    -0.09311274  0.04640639\n",
      " -0.00424065  0.12906261  0.11076786 -0.05868891  0.08581991  0.15126756\n",
      " -0.12086959 -0.05210055  0.03159944  0.03399376  0.03074917  0.06458564\n",
      " -0.00669412  0.01158517  0.09390359 -0.04305079  0.09686389  0.03726171\n",
      " -0.0102513  -0.07124328  0.11440746  0.01281728  0.10684295  0.09967513\n",
      " -0.16482443 -0.0479937  -0.15093347  0.06106996  0.12050529  0.01158712\n",
      "  0.03075118  0.03787279 -0.07534848  0.10191762  0.08666261 -0.09515801\n",
      "  0.13524882 -0.09130715  0.02188062 -0.03301568 -0.07975473 -0.14984754\n",
      " -0.07265912 -0.05656769  0.0897555   0.06407007 -0.05135506 -0.13448419\n",
      " -0.01959192 -0.10044614]\n"
     ]
    },
    {
     "name": "stderr",
     "output_type": "stream",
     "text": [
      "C:\\Users\\zhaox\\AppData\\Roaming\\Python\\Python36\\site-packages\\ipykernel_launcher.py:1: DeprecationWarning: Call to deprecated `__getitem__` (Method will be removed in 4.0.0, use self.wv.__getitem__() instead).\n",
      "  \"\"\"Entry point for launching an IPython kernel.\n"
     ]
    }
   ],
   "source": [
    "print (model_film['Hello Sir!'])"
   ]
  },
  {
   "cell_type": "code",
   "execution_count": 167,
   "metadata": {
    "ExecuteTime": {
     "end_time": "2018-07-14T09:44:57.077120Z",
     "start_time": "2018-07-14T09:44:57.069132Z"
    },
    "hidden": true
   },
   "outputs": [],
   "source": [
    "def sent_vectorizer(sent, this_model):\n",
    "    \n",
    "    all_list = []\n",
    "    for sentence in sent:\n",
    "        sent_vec =[]\n",
    "        numw = 0\n",
    "        for w in sentence:\n",
    "            if w in this_model:\n",
    "                if numw == 0:\n",
    "                    sent_vec = this_model[w]\n",
    "                else:\n",
    "                    sent_vec = np.add(sent_vec, this_model[w])\n",
    "                numw+=1\n",
    "            else:\n",
    "                continue\n",
    "        if numw:\n",
    "            all_list.append((np.asarray(sent_vec)/numw))\n",
    "        else:\n",
    "            all_list.append(np.zeros(this_model.vector_size))\n",
    "    \n",
    "    return np.asarray(all_list)"
   ]
  },
  {
   "cell_type": "code",
   "execution_count": 168,
   "metadata": {
    "ExecuteTime": {
     "end_time": "2018-07-14T11:30:51.802398Z",
     "start_time": "2018-07-14T11:30:28.768642Z"
    },
    "hidden": true
   },
   "outputs": [
    {
     "data": {
      "text/plain": [
       "Pipeline(memory=None,\n",
       "     steps=[('features', FeatureUnion(n_jobs=1,\n",
       "       transformer_list=[('text', Pipeline(memory=None,\n",
       "     steps=[('vectorizer', CountVectorizer(analyzer='word', binary=False, decode_error='strict',\n",
       "        dtype=<class 'numpy.int64'>, encoding='utf-8', input='content',\n",
       "        lowercase=True, max_df=1...n_jobs=1,\n",
       "            oob_score=False, random_state=None, verbose=0,\n",
       "            warm_start=False))])"
      ]
     },
     "execution_count": 168,
     "metadata": {},
     "output_type": "execute_result"
    }
   ],
   "source": [
    "classifier = Pipeline([\n",
    "    ('features', FeatureUnion([\n",
    "        ('text', Pipeline([\n",
    "            ('vectorizer', CountVectorizer(stop_words=stop_word_dict)),\n",
    "            ('tfidf', TfidfTransformer()),\n",
    "        ])),\n",
    "        ('word2vec', Pipeline([\n",
    "            ('to_list', FunctionTransformer(sentence_to_list, validate=False)),\n",
    "            ('w', FunctionTransformer(sent_vectorizer, validate=False, kw_args={'this_model': model})),\n",
    "        ])),\n",
    "        ('questions', Pipeline([\n",
    "            ('q', FunctionTransformer(get_questions, validate=False)),\n",
    "        ])),\n",
    "        ('exclaimation', Pipeline([\n",
    "            ('e', FunctionTransformer(get_exclaimation, validate=False)),\n",
    "        ])),\n",
    "#         ('get_question_words', Pipeline([\n",
    "#             ('g', FunctionTransformer(get_question_words, validate=False)),\n",
    "#         ])),\n",
    "#         ('get_charc_names', Pipeline([\n",
    "#             ('n', FunctionTransformer(get_charc_names, validate=False)),\n",
    "#         ]))\n",
    "    ])),\n",
    "    ('clf', RandomForestClassifier(n_estimators=500))])\n",
    "classifier.fit(X_train, y_train)\n",
    "#predictions_xgb = classifier.predict(X_test)"
   ]
  },
  {
   "cell_type": "code",
   "execution_count": 169,
   "metadata": {
    "ExecuteTime": {
     "end_time": "2018-07-14T11:27:45.915915Z",
     "start_time": "2018-07-14T11:27:45.656499Z"
    },
    "hidden": true
   },
   "outputs": [
    {
     "name": "stdout",
     "output_type": "stream",
     "text": [
      "1892\n"
     ]
    }
   ],
   "source": [
    "# check if the number of features is correct\n",
    "print(len(classifier.steps[1][1].feature_importances_))"
   ]
  },
  {
   "cell_type": "code",
   "execution_count": 170,
   "metadata": {
    "ExecuteTime": {
     "end_time": "2018-07-14T11:30:58.647335Z",
     "start_time": "2018-07-14T11:30:58.289013Z"
    },
    "hidden": true
   },
   "outputs": [],
   "source": [
    "predictions_rf = classifier.predict(X_test)"
   ]
  },
  {
   "cell_type": "code",
   "execution_count": 171,
   "metadata": {
    "ExecuteTime": {
     "end_time": "2018-07-14T11:30:59.811395Z",
     "start_time": "2018-07-14T11:30:59.720641Z"
    },
    "hidden": true
   },
   "outputs": [
    {
     "name": "stdout",
     "output_type": "stream",
     "text": [
      "Accuracy score:  0.3891625615763547\n",
      "Precision score:  0.41667131566713156\n",
      "Recall score:  0.29892206165386626\n",
      "F1 score:  0.2848730890254875\n"
     ]
    }
   ],
   "source": [
    "print('Accuracy score: ', format(accuracy_score(y_test, predictions_rf)))\n",
    "print('Precision score: ', format(precision_score(y_test, predictions_rf, average = 'macro')))\n",
    "print('Recall score: ', format(recall_score(y_test, predictions_rf, average = 'macro')))\n",
    "print('F1 score: ', format(f1_score(y_test, predictions_rf, average = 'macro')))"
   ]
  },
  {
   "cell_type": "markdown",
   "metadata": {},
   "source": [
    "# Camp Classification"
   ]
  },
  {
   "cell_type": "code",
   "execution_count": 172,
   "metadata": {},
   "outputs": [
    {
     "name": "stdout",
     "output_type": "stream",
     "text": [
      "Number of rows in the training set: 1215\n",
      "Number of rows in the test set: 406\n"
     ]
    }
   ],
   "source": [
    "X_train_camp, X_test_camp, y_train_camp, y_test_camp = train_test_split(X, \n",
    "                                                    y_camp, \n",
    "                                                    random_state=1)\n",
    "\n",
    "print('Number of rows in the training set: {}'.format(X_train.shape[0]))\n",
    "print('Number of rows in the test set: {}'.format(X_test.shape[0]))"
   ]
  },
  {
   "cell_type": "markdown",
   "metadata": {},
   "source": [
    "## 0-R"
   ]
  },
  {
   "cell_type": "code",
   "execution_count": 173,
   "metadata": {},
   "outputs": [
    {
     "name": "stdout",
     "output_type": "stream",
     "text": [
      "Accuracy score:  0.9039408866995073\n",
      "Precision score:  0.45197044334975367\n",
      "Recall score:  0.5\n",
      "F1 score:  0.47477360931435963\n"
     ]
    },
    {
     "name": "stderr",
     "output_type": "stream",
     "text": [
      "C:\\Users\\zhaox\\AppData\\Roaming\\Python\\Python36\\site-packages\\sklearn\\metrics\\classification.py:1135: UndefinedMetricWarning: Precision is ill-defined and being set to 0.0 in labels with no predicted samples.\n",
      "  'precision', 'predicted', average, warn_for)\n",
      "C:\\Users\\zhaox\\AppData\\Roaming\\Python\\Python36\\site-packages\\sklearn\\metrics\\classification.py:1135: UndefinedMetricWarning: F-score is ill-defined and being set to 0.0 in labels with no predicted samples.\n",
      "  'precision', 'predicted', average, warn_for)\n"
     ]
    }
   ],
   "source": [
    "testlab0R = pd.DataFrame(y_train_camp)\n",
    "testlab0R.groupby('camp').size()\n",
    "#HAN 96,LEIA 48,LUKE 92,THREEPIO 59,VADER 30 -- so go by HAN\n",
    "d = pd.Series('Rebellion', index=range(406))\n",
    "\n",
    "#Accuracy score:  0.2953846153846154\n",
    "#Precision score:  0.05907692307692308\n",
    "#Recall score:  0.2\n",
    "#F1 score:  0.09121140142517817\n",
    "print('Accuracy score: ', format(accuracy_score(y_test_camp, d)))\n",
    "print('Precision score: ', format(precision_score(y_test_camp, d, average = 'macro')))\n",
    "print('Recall score: ', format(recall_score(y_test_camp, d, average = 'macro')))\n",
    "print('F1 score: ', format(f1_score(y_test_camp, d, average = 'macro')))\n"
   ]
  },
  {
   "cell_type": "markdown",
   "metadata": {},
   "source": [
    "## BOW"
   ]
  },
  {
   "cell_type": "code",
   "execution_count": 387,
   "metadata": {},
   "outputs": [
    {
     "name": "stdout",
     "output_type": "stream",
     "text": [
      "1728\n"
     ]
    }
   ],
   "source": [
    "classifier = Pipeline([\n",
    "    ('features', FeatureUnion([\n",
    "        ('text', Pipeline([\n",
    "            ('vectorizer', vectorizer),\n",
    "#             ('tfidf', TfidfTransformer()),\n",
    "        ])),\n",
    "        ('length', Pipeline([\n",
    "            ('count', FunctionTransformer(get_text_length, validate=False)),\n",
    "        ])),\n",
    "        ('questions', Pipeline([\n",
    "            ('q', FunctionTransformer(get_questions, validate=False)),\n",
    "        ])),\n",
    "        ('exclaimation', Pipeline([\n",
    "            ('e', FunctionTransformer(get_exclaimation, validate=False)),\n",
    "        ])),\n",
    "        ('get_question_words', Pipeline([\n",
    "            ('g', FunctionTransformer(get_question_words, validate=False)),\n",
    "        ])),\n",
    "        ('get_char_names', Pipeline([\n",
    "            ('n', FunctionTransformer(get_char_names, validate=False)),\n",
    "        ])),\n",
    "#         ('get_gazetteer', Pipeline([\n",
    "#             ('get_gazetteer', FunctionTransformer(get_gazetteer, validate=False)),\n",
    "#         ])),\n",
    "#         ('get_senti_score', Pipeline([\n",
    "#             ('g', FunctionTransformer(get_senti_score, validate=False)),\n",
    "#         ])),\n",
    "    ])),\n",
    "    ('clf', LogisticRegression(multi_class = \"ovr\"))])\n",
    "classifier.fit(X_train_camp, y_train_camp)\n",
    "predictions_lr = classifier.predict(X_test)\n",
    "print(len(classifier.steps[1][1].coef_[0]))"
   ]
  },
  {
   "cell_type": "code",
   "execution_count": 386,
   "metadata": {},
   "outputs": [
    {
     "name": "stdout",
     "output_type": "stream",
     "text": [
      "Accuracy score:  0.9285714285714286\n",
      "Precision score:  0.8729166666666667\n",
      "Recall score:  0.6625794732061762\n",
      "F1 score:  0.717209078899964\n"
     ]
    }
   ],
   "source": [
    "print('Accuracy score: ', format(accuracy_score(y_test_camp, predictions_lr)))\n",
    "print('Precision score: ', format(precision_score(y_test_camp, predictions_lr, average = 'macro')))\n",
    "print('Recall score: ', format(recall_score(y_test_camp, predictions_lr, average = 'macro')))\n",
    "print('F1 score: ', format(f1_score(y_test_camp, predictions_lr, average = 'macro')))"
   ]
  },
  {
   "cell_type": "code",
   "execution_count": 366,
   "metadata": {},
   "outputs": [
    {
     "name": "stdout",
     "output_type": "stream",
     "text": [
      "Accuracy score:  0.9211822660098522\n",
      "Precision score:  0.8477197103151302\n",
      "Recall score:  0.6241179347446377\n",
      "F1 score:  0.671255060728745\n"
     ]
    }
   ],
   "source": [
    "# raw BOW\n",
    "print('Accuracy score: ', format(accuracy_score(y_test_camp, predictions_lr)))\n",
    "print('Precision score: ', format(precision_score(y_test_camp, predictions_lr, average = 'macro')))\n",
    "print('Recall score: ', format(recall_score(y_test_camp, predictions_lr, average = 'macro')))\n",
    "print('F1 score: ', format(f1_score(y_test_camp, predictions_lr, average = 'macro')))"
   ]
  },
  {
   "cell_type": "code",
   "execution_count": 390,
   "metadata": {},
   "outputs": [
    {
     "data": {
      "text/plain": [
       "[Text(0,0.5,'Empire'), Text(0,1.5,'Rebellion')]"
      ]
     },
     "execution_count": 390,
     "metadata": {},
     "output_type": "execute_result"
    },
    {
     "data": {
      "image/png": "[encoded data removed]",
      "text/plain": [
       "<matplotlib.figure.Figure at 0x1c89566a400>"
      ]
     },
     "metadata": {},
     "output_type": "display_data"
    }
   ],
   "source": [
    "#Create confusion matrix and heatmap\n",
    "confusion_lr = confusion_matrix(y_test_camp, predictions_lr)\n",
    "df_confusion = pd.DataFrame(confusion_lr)\n",
    "fig = plt.figure(figsize=(4,4))\n",
    "ax = fig.add_subplot(sns.heatmap(df_confusion, annot=True))\n",
    "plt.title('Multinomial Logisitic Regression \\nAccuracy: {0:.5f}'.format(accuracy_score(y_test_camp, predictions_lr)))\n",
    "plt.ylabel('Target Class')\n",
    "plt.xlabel('Predicted Class')\n",
    "ax.tick_params(axis='both', which='major', labelsize=10)\n",
    "ax.set_xticklabels(['Empire', 'Rebellion'])\n",
    "ax.set_yticklabels(['Empire', 'Rebellion'])"
   ]
  },
  {
   "cell_type": "markdown",
   "metadata": {},
   "source": [
    "## Word2Vec"
   ]
  },
  {
   "cell_type": "code",
   "execution_count": 129,
   "metadata": {
    "ExecuteTime": {
     "end_time": "2018-07-14T11:30:51.802398Z",
     "start_time": "2018-07-14T11:30:28.768642Z"
    }
   },
   "outputs": [
    {
     "name": "stderr",
     "output_type": "stream",
     "text": [
      "C:\\Users\\zhaox\\AppData\\Roaming\\Python\\Python36\\site-packages\\ipykernel_launcher.py:8: DeprecationWarning: Call to deprecated `__contains__` (Method will be removed in 4.0.0, use self.wv.__contains__() instead).\n",
      "  \n",
      "C:\\Users\\zhaox\\AppData\\Roaming\\Python\\Python36\\site-packages\\ipykernel_launcher.py:10: DeprecationWarning: Call to deprecated `__getitem__` (Method will be removed in 4.0.0, use self.wv.__getitem__() instead).\n",
      "  # Remove the CWD from sys.path while we load stuff.\n",
      "C:\\Users\\zhaox\\AppData\\Roaming\\Python\\Python36\\site-packages\\ipykernel_launcher.py:12: DeprecationWarning: Call to deprecated `__getitem__` (Method will be removed in 4.0.0, use self.wv.__getitem__() instead).\n",
      "  if sys.path[0] == '':\n"
     ]
    },
    {
     "data": {
      "text/plain": [
       "Pipeline(memory=None,\n",
       "     steps=[('features', FeatureUnion(n_jobs=1,\n",
       "       transformer_list=[('word2vec', Pipeline(memory=None,\n",
       "     steps=[('to_list', FunctionTransformer(accept_sparse=False,\n",
       "          func=<function sentence_to_list at 0x000001C82C1E0950>,\n",
       "          inv_kw_args=None, inverse_func=None, kw_args=None,\n",
       "     ...n_jobs=4,\n",
       "            oob_score=False, random_state=None, verbose=0,\n",
       "            warm_start=False))])"
      ]
     },
     "execution_count": 129,
     "metadata": {},
     "output_type": "execute_result"
    }
   ],
   "source": [
    "classifier = Pipeline([\n",
    "    ('features', FeatureUnion([\n",
    "#         ('text', Pipeline([\n",
    "#             ('vectorizer', CountVectorizer(stop_words=stop_word_dict)),\n",
    "#             ('tfidf', TfidfTransformer()),\n",
    "#         ])),\n",
    "        ('word2vec', Pipeline([\n",
    "            ('to_list', FunctionTransformer(sentence_to_list, validate=False)),\n",
    "            ('w', FunctionTransformer(sent_vectorizer, validate=False, kw_args={'this_model': model_film})),\n",
    "        ])),\n",
    "        ('questions', Pipeline([\n",
    "            ('q', FunctionTransformer(get_questions, validate=False)),\n",
    "        ])),\n",
    "        ('exclaimation', Pipeline([\n",
    "            ('e', FunctionTransformer(get_exclaimation, validate=False)),\n",
    "        ])),\n",
    "        ('get_question_words', Pipeline([\n",
    "            ('g', FunctionTransformer(get_question_words, validate=False)),\n",
    "        ])),\n",
    "#         ('get_charc_names', Pipeline([\n",
    "#             ('n', FunctionTransformer(get_charc_names, validate=False)),\n",
    "#         ]))\n",
    "    ])),\n",
    "    ('clf', RandomForestClassifier(n_estimators=1500, n_jobs=4))])\n",
    "classifier.fit(X_train_camp, y_train_camp)\n"
   ]
  },
  {
   "cell_type": "code",
   "execution_count": 130,
   "metadata": {
    "ExecuteTime": {
     "end_time": "2018-07-14T11:30:58.647335Z",
     "start_time": "2018-07-14T11:30:58.289013Z"
    }
   },
   "outputs": [
    {
     "name": "stderr",
     "output_type": "stream",
     "text": [
      "C:\\Users\\zhaox\\AppData\\Roaming\\Python\\Python36\\site-packages\\ipykernel_launcher.py:8: DeprecationWarning: Call to deprecated `__contains__` (Method will be removed in 4.0.0, use self.wv.__contains__() instead).\n",
      "  \n",
      "C:\\Users\\zhaox\\AppData\\Roaming\\Python\\Python36\\site-packages\\ipykernel_launcher.py:10: DeprecationWarning: Call to deprecated `__getitem__` (Method will be removed in 4.0.0, use self.wv.__getitem__() instead).\n",
      "  # Remove the CWD from sys.path while we load stuff.\n",
      "C:\\Users\\zhaox\\AppData\\Roaming\\Python\\Python36\\site-packages\\ipykernel_launcher.py:12: DeprecationWarning: Call to deprecated `__getitem__` (Method will be removed in 4.0.0, use self.wv.__getitem__() instead).\n",
      "  if sys.path[0] == '':\n"
     ]
    }
   ],
   "source": [
    "predictions_rf = classifier.predict(X_test_camp)"
   ]
  },
  {
   "cell_type": "code",
   "execution_count": 128,
   "metadata": {
    "ExecuteTime": {
     "end_time": "2018-07-14T11:30:59.811395Z",
     "start_time": "2018-07-14T11:30:59.720641Z"
    }
   },
   "outputs": [
    {
     "name": "stdout",
     "output_type": "stream",
     "text": [
      "Accuracy score:  0.9064039408866995\n",
      "Precision score:  0.7349566190876015\n",
      "Recall score:  0.5586529728219101\n",
      "F1 score:  0.5792975567190227\n"
     ]
    }
   ],
   "source": [
    "print('Accuracy score: ', format(accuracy_score(y_test_camp, predictions_rf)))\n",
    "print('Precision score: ', format(precision_score(y_test_camp, predictions_rf, average = 'macro')))\n",
    "print('Recall score: ', format(recall_score(y_test_camp, predictions_rf, average = 'macro')))\n",
    "print('F1 score: ', format(f1_score(y_test_camp, predictions_rf, average = 'macro')))"
   ]
  },
  {
   "cell_type": "code",
   "execution_count": null,
   "metadata": {},
   "outputs": [],
   "source": []
  },
  {
   "cell_type": "markdown",
   "metadata": {},
   "source": [
    "# LSTM and CNN"
   ]
  },
  {
   "cell_type": "markdown",
   "metadata": {},
   "source": [
    "https://machinelearningmastery.com/sequence-classification-lstm-recurrent-neural-networks-python-keras/"
   ]
  },
  {
   "cell_type": "markdown",
   "metadata": {},
   "source": [
    "https://medium.com/@sabber/classifying-yelp-review-comments-using-lstm-and-word-embeddings-part-1-eb2275e4066b\n",
    "https://medium.com/@sabber/classifying-yelp-review-comments-using-cnn-lstm-and-visualize-word-embeddings-part-2-ca137a42a97d\n",
    "https://medium.com/@sabber/classifying-yelp-review-comments-using-cnn-lstm-and-pre-trained-glove-word-embeddings-part-3-53fcea9a17fa"
   ]
  },
  {
   "cell_type": "code",
   "execution_count": null,
   "metadata": {},
   "outputs": [],
   "source": []
  }
 ],
 "metadata": {
  "hide_input": false,
  "kernelspec": {
   "display_name": "Python 3",
   "language": "python",
   "name": "python3"
  },
  "language_info": {
   "codemirror_mode": {
    "name": "ipython",
    "version": 3
   },
   "file_extension": ".py",
   "mimetype": "text/x-python",
   "name": "python",
   "nbconvert_exporter": "python",
   "pygments_lexer": "ipython3",
   "version": "3.6.5"
  },
  "notify_time": "5",
  "toc": {
   "base_numbering": 1,
   "nav_menu": {},
   "number_sections": true,
   "sideBar": true,
   "skip_h1_title": false,
   "title_cell": "Table of Contents",
   "title_sidebar": "Contents",
   "toc_cell": false,
   "toc_position": {
    "height": "calc(100% - 180px)",
    "left": "10px",
    "top": "150px",
    "width": "199px"
   },
   "toc_section_display": true,
   "toc_window_display": true
  },
  "varInspector": {
   "cols": {
    "lenName": 16,
    "lenType": 16,
    "lenVar": 40
   },
   "kernels_config": {
    "python": {
     "delete_cmd_postfix": "",
     "delete_cmd_prefix": "del ",
     "library": "var_list.py",
     "varRefreshCmd": "print(var_dic_list())"
    },
    "r": {
     "delete_cmd_postfix": ") ",
     "delete_cmd_prefix": "rm(",
     "library": "var_list.r",
     "varRefreshCmd": "cat(var_dic_list()) "
    }
   },
   "types_to_exclude": [
    "module",
    "function",
    "builtin_function_or_method",
    "instance",
    "_Feature"
   ],
   "window_display": false
  }
 },
 "nbformat": 4,
 "nbformat_minor": 2
}
