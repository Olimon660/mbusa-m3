{
 "cells": [
  {
   "cell_type": "code",
   "execution_count": 1,
   "metadata": {
    "ExecuteTime": {
     "end_time": "2018-10-20T03:36:26.353089Z",
     "start_time": "2018-10-20T03:36:08.846109Z"
    }
   },
   "outputs": [],
   "source": [
    "import folium\n",
    "from folium import plugins\n",
    "from folium.plugins import HeatMap\n",
    "import pandas as pd\n",
    "import seaborn as sns\n",
    "import matplotlib.pyplot as plt\n",
    "import numpy as np\n",
    "import json\n",
    "%matplotlib inline\n",
    "import os\n",
    "\n",
    "from ast import literal_eval\n",
    "from collections import Counter\n",
    "from pandas.io.json import json_normalize"
   ]
  },
  {
   "cell_type": "code",
   "execution_count": 2,
   "metadata": {
    "ExecuteTime": {
     "end_time": "2018-10-20T03:36:34.102361Z",
     "start_time": "2018-10-20T03:36:26.367344Z"
    }
   },
   "outputs": [],
   "source": [
    "business = pd.read_json('../data/yelp_academic_dataset_business.json', lines=True)"
   ]
  },
  {
   "cell_type": "code",
   "execution_count": 3,
   "metadata": {
    "ExecuteTime": {
     "end_time": "2018-10-20T03:36:34.583391Z",
     "start_time": "2018-10-20T03:36:34.106033Z"
    }
   },
   "outputs": [],
   "source": [
    "business = business[business['categories'].notnull() & business['hours'].notnull() & business['attributes'].notnull()]\n",
    "business_food = business[business['categories'].str.contains('Restaurants')]\n",
    "business_Scottsdale = business_food[business_food['city']=='Scottsdale']"
   ]
  },
  {
   "cell_type": "code",
   "execution_count": 4,
   "metadata": {
    "ExecuteTime": {
     "end_time": "2018-10-20T03:36:44.969226Z",
     "start_time": "2018-10-20T03:36:44.946524Z"
    }
   },
   "outputs": [],
   "source": [
    "business_vegas = business_food[business_food['city']=='Las Vegas']"
   ]
  },
  {
   "cell_type": "code",
   "execution_count": 12,
   "metadata": {
    "ExecuteTime": {
     "end_time": "2018-10-19T01:34:41.019969Z",
     "start_time": "2018-10-19T01:34:40.989848Z"
    }
   },
   "outputs": [
    {
     "data": {
      "text/html": [
       "<div>\n",
       "<style scoped>\n",
       "    .dataframe tbody tr th:only-of-type {\n",
       "        vertical-align: middle;\n",
       "    }\n",
       "\n",
       "    .dataframe tbody tr th {\n",
       "        vertical-align: top;\n",
       "    }\n",
       "\n",
       "    .dataframe thead th {\n",
       "        text-align: right;\n",
       "    }\n",
       "</style>\n",
       "<table border=\"1\" class=\"dataframe\">\n",
       "  <thead>\n",
       "    <tr style=\"text-align: right;\">\n",
       "      <th></th>\n",
       "      <th>address</th>\n",
       "      <th>attributes</th>\n",
       "      <th>business_id</th>\n",
       "      <th>categories</th>\n",
       "      <th>city</th>\n",
       "      <th>hours</th>\n",
       "      <th>is_open</th>\n",
       "      <th>latitude</th>\n",
       "      <th>longitude</th>\n",
       "      <th>name</th>\n",
       "      <th>neighborhood</th>\n",
       "      <th>postal_code</th>\n",
       "      <th>review_count</th>\n",
       "      <th>stars</th>\n",
       "      <th>state</th>\n",
       "    </tr>\n",
       "  </thead>\n",
       "  <tbody>\n",
       "    <tr>\n",
       "      <th>108</th>\n",
       "      <td>6316 N Scottsdale Rd</td>\n",
       "      <td>{'Alcohol': 'full_bar', 'Ambience': '{'romanti...</td>\n",
       "      <td>F73T-N5lRNL2Gcpg0Q4KKw</td>\n",
       "      <td>Food, Restaurants, Italian, Bars, Wine Bars, D...</td>\n",
       "      <td>Scottsdale</td>\n",
       "      <td>{'Monday': '16:30-21:30', 'Tuesday': '16:30-21...</td>\n",
       "      <td>1</td>\n",
       "      <td>33.530358</td>\n",
       "      <td>-111.925905</td>\n",
       "      <td>Fat Ox</td>\n",
       "      <td></td>\n",
       "      <td>85253</td>\n",
       "      <td>234</td>\n",
       "      <td>4.0</td>\n",
       "      <td>AZ</td>\n",
       "    </tr>\n",
       "    <tr>\n",
       "      <th>109</th>\n",
       "      <td>2515 N Scottsdale Rd</td>\n",
       "      <td>{'Alcohol': 'none', 'Ambience': '{'romantic': ...</td>\n",
       "      <td>SUhBnQdG8MWkmjM6wsnVdw</td>\n",
       "      <td>Chinese, Bars, Karaoke, Nightlife, Restaurants</td>\n",
       "      <td>Scottsdale</td>\n",
       "      <td>{'Monday': '12:0-22:30', 'Tuesday': '11:0-23:0...</td>\n",
       "      <td>1</td>\n",
       "      <td>33.475349</td>\n",
       "      <td>-111.925657</td>\n",
       "      <td>Tang Dynasty Restaurant And Bar</td>\n",
       "      <td></td>\n",
       "      <td>85257</td>\n",
       "      <td>28</td>\n",
       "      <td>3.5</td>\n",
       "      <td>AZ</td>\n",
       "    </tr>\n",
       "    <tr>\n",
       "      <th>486</th>\n",
       "      <td>8001 E Indian School Rd</td>\n",
       "      <td>{'Alcohol': 'none', 'Ambience': '{'romantic': ...</td>\n",
       "      <td>JQLUWnceJyKuMDqV0HHRUg</td>\n",
       "      <td>Coffee &amp; Tea, Food, Restaurants, Fast Food, Bu...</td>\n",
       "      <td>Scottsdale</td>\n",
       "      <td>{'Monday': '0:0-0:0', 'Tuesday': '0:0-0:0', 'W...</td>\n",
       "      <td>1</td>\n",
       "      <td>33.494538</td>\n",
       "      <td>-111.908384</td>\n",
       "      <td>McDonald's</td>\n",
       "      <td></td>\n",
       "      <td>85257</td>\n",
       "      <td>54</td>\n",
       "      <td>2.0</td>\n",
       "      <td>AZ</td>\n",
       "    </tr>\n",
       "    <tr>\n",
       "      <th>659</th>\n",
       "      <td>7047 E McDowell Rd</td>\n",
       "      <td>{'Alcohol': 'none', 'Ambience': '{'romantic': ...</td>\n",
       "      <td>-GUi0xyzwT9KJPS0v96dRA</td>\n",
       "      <td>Chicken Wings, Restaurants, Pizza, Sandwiches</td>\n",
       "      <td>Scottsdale</td>\n",
       "      <td>{'Monday': '16:0-21:30', 'Tuesday': '16:0-21:3...</td>\n",
       "      <td>1</td>\n",
       "      <td>33.464515</td>\n",
       "      <td>-111.927495</td>\n",
       "      <td>Piza Pizza</td>\n",
       "      <td></td>\n",
       "      <td>85257</td>\n",
       "      <td>28</td>\n",
       "      <td>2.5</td>\n",
       "      <td>AZ</td>\n",
       "    </tr>\n",
       "    <tr>\n",
       "      <th>744</th>\n",
       "      <td>6113 N Scottsdale Rd</td>\n",
       "      <td>{'Alcohol': 'full_bar', 'Ambience': '{'romanti...</td>\n",
       "      <td>zrDi4gEaUi64lAMfJU51dw</td>\n",
       "      <td>American (Traditional), Steakhouses, Restauran...</td>\n",
       "      <td>Scottsdale</td>\n",
       "      <td>{'Monday': '11:0-22:0', 'Tuesday': '11:0-22:0'...</td>\n",
       "      <td>1</td>\n",
       "      <td>33.526145</td>\n",
       "      <td>-111.925422</td>\n",
       "      <td>Houston's Restaurant</td>\n",
       "      <td></td>\n",
       "      <td>85250</td>\n",
       "      <td>536</td>\n",
       "      <td>4.0</td>\n",
       "      <td>AZ</td>\n",
       "    </tr>\n",
       "  </tbody>\n",
       "</table>\n",
       "</div>"
      ],
      "text/plain": [
       "                     address  \\\n",
       "108     6316 N Scottsdale Rd   \n",
       "109     2515 N Scottsdale Rd   \n",
       "486  8001 E Indian School Rd   \n",
       "659       7047 E McDowell Rd   \n",
       "744     6113 N Scottsdale Rd   \n",
       "\n",
       "                                            attributes  \\\n",
       "108  {'Alcohol': 'full_bar', 'Ambience': '{'romanti...   \n",
       "109  {'Alcohol': 'none', 'Ambience': '{'romantic': ...   \n",
       "486  {'Alcohol': 'none', 'Ambience': '{'romantic': ...   \n",
       "659  {'Alcohol': 'none', 'Ambience': '{'romantic': ...   \n",
       "744  {'Alcohol': 'full_bar', 'Ambience': '{'romanti...   \n",
       "\n",
       "                business_id  \\\n",
       "108  F73T-N5lRNL2Gcpg0Q4KKw   \n",
       "109  SUhBnQdG8MWkmjM6wsnVdw   \n",
       "486  JQLUWnceJyKuMDqV0HHRUg   \n",
       "659  -GUi0xyzwT9KJPS0v96dRA   \n",
       "744  zrDi4gEaUi64lAMfJU51dw   \n",
       "\n",
       "                                            categories        city  \\\n",
       "108  Food, Restaurants, Italian, Bars, Wine Bars, D...  Scottsdale   \n",
       "109     Chinese, Bars, Karaoke, Nightlife, Restaurants  Scottsdale   \n",
       "486  Coffee & Tea, Food, Restaurants, Fast Food, Bu...  Scottsdale   \n",
       "659      Chicken Wings, Restaurants, Pizza, Sandwiches  Scottsdale   \n",
       "744  American (Traditional), Steakhouses, Restauran...  Scottsdale   \n",
       "\n",
       "                                                 hours  is_open   latitude  \\\n",
       "108  {'Monday': '16:30-21:30', 'Tuesday': '16:30-21...        1  33.530358   \n",
       "109  {'Monday': '12:0-22:30', 'Tuesday': '11:0-23:0...        1  33.475349   \n",
       "486  {'Monday': '0:0-0:0', 'Tuesday': '0:0-0:0', 'W...        1  33.494538   \n",
       "659  {'Monday': '16:0-21:30', 'Tuesday': '16:0-21:3...        1  33.464515   \n",
       "744  {'Monday': '11:0-22:0', 'Tuesday': '11:0-22:0'...        1  33.526145   \n",
       "\n",
       "      longitude                             name neighborhood postal_code  \\\n",
       "108 -111.925905                           Fat Ox                    85253   \n",
       "109 -111.925657  Tang Dynasty Restaurant And Bar                    85257   \n",
       "486 -111.908384                       McDonald's                    85257   \n",
       "659 -111.927495                       Piza Pizza                    85257   \n",
       "744 -111.925422             Houston's Restaurant                    85250   \n",
       "\n",
       "     review_count  stars state  \n",
       "108           234    4.0    AZ  \n",
       "109            28    3.5    AZ  \n",
       "486            54    2.0    AZ  \n",
       "659            28    2.5    AZ  \n",
       "744           536    4.0    AZ  "
      ]
     },
     "execution_count": 12,
     "metadata": {},
     "output_type": "execute_result"
    }
   ],
   "source": [
    "business_Scottsdale.head()"
   ]
  },
  {
   "cell_type": "code",
   "execution_count": 7,
   "metadata": {
    "ExecuteTime": {
     "end_time": "2018-10-20T03:37:18.297535Z",
     "start_time": "2018-10-20T03:37:18.235968Z"
    }
   },
   "outputs": [],
   "source": [
    "hmap = folium.Map(\n",
    "    location=[33.567, -111.912],\n",
    "    zoom_start=14,\n",
    ")"
   ]
  },
  {
   "cell_type": "code",
   "execution_count": 8,
   "metadata": {
    "ExecuteTime": {
     "end_time": "2018-10-20T03:37:19.524687Z",
     "start_time": "2018-10-20T03:37:19.443441Z"
    },
    "code_folding": [],
    "scrolled": false
   },
   "outputs": [],
   "source": [
    "max_amount = np.max(business_vegas['stars'])\n",
    "hm_wide = HeatMap(\n",
    "    list(\n",
    "        zip(business_vegas['latitude'].values,\n",
    "            business_vegas['longitude'].values, business_vegas['stars'].values)),\n",
    "    min_opacity=0.2,\n",
    "    max_val=max_amount,\n",
    "    radius=10,\n",
    "    blur=18,\n",
    "    max_zoom=1,\n",
    ")\n",
    "hm_wide.add_to(hmap)\n",
    "hmap.save('../maps/heatmap_vagas.html')"
   ]
  },
  {
   "cell_type": "code",
   "execution_count": 57,
   "metadata": {
    "ExecuteTime": {
     "end_time": "2018-10-19T02:19:12.715810Z",
     "start_time": "2018-10-19T02:18:06.635046Z"
    },
    "code_folding": []
   },
   "outputs": [],
   "source": [
    "markermap = folium.Map(location=[33.567, -111.912], zoom_start=14)\n",
    "plugins.MarkerCluster(\n",
    "    list(\n",
    "        zip(business_food['latitude'].values,\n",
    "            business_food['longitude'].values)),\n",
    "    popups = [folium.Popup(str(x), parse_html=True) for x in business_food['name'].values]\n",
    ").add_to(markermap)\n",
    "markermap.save('../maps/marker.html')"
   ]
  },
  {
   "cell_type": "code",
   "execution_count": 7,
   "metadata": {
    "ExecuteTime": {
     "end_time": "2018-10-19T01:27:19.815500Z",
     "start_time": "2018-10-19T01:27:19.692994Z"
    }
   },
   "outputs": [
    {
     "data": {
      "text/html": [
       "<div>\n",
       "<style scoped>\n",
       "    .dataframe tbody tr th:only-of-type {\n",
       "        vertical-align: middle;\n",
       "    }\n",
       "\n",
       "    .dataframe tbody tr th {\n",
       "        vertical-align: top;\n",
       "    }\n",
       "\n",
       "    .dataframe thead th {\n",
       "        text-align: right;\n",
       "    }\n",
       "</style>\n",
       "<table border=\"1\" class=\"dataframe\">\n",
       "  <thead>\n",
       "    <tr style=\"text-align: right;\">\n",
       "      <th></th>\n",
       "      <th>address</th>\n",
       "      <th>attributes</th>\n",
       "      <th>business_id</th>\n",
       "      <th>categories</th>\n",
       "      <th>city</th>\n",
       "      <th>hours</th>\n",
       "      <th>is_open</th>\n",
       "      <th>latitude</th>\n",
       "      <th>longitude</th>\n",
       "      <th>name</th>\n",
       "      <th>neighborhood</th>\n",
       "      <th>postal_code</th>\n",
       "      <th>review_count</th>\n",
       "      <th>stars</th>\n",
       "      <th>state</th>\n",
       "    </tr>\n",
       "  </thead>\n",
       "  <tbody>\n",
       "    <tr>\n",
       "      <th>88961</th>\n",
       "      <td>Green Valley Ranch Resort, 2309 Paseo Verde Pkwy</td>\n",
       "      <td>{'Alcohol': 'full_bar', 'Ambience': '{'romanti...</td>\n",
       "      <td>Zmp2_b2gpSloz4Dv2VsVNg</td>\n",
       "      <td>Italian, Restaurants</td>\n",
       "      <td>Henderson</td>\n",
       "      <td>{'Monday': '17:0-22:0', 'Tuesday': '17:0-22:0'...</td>\n",
       "      <td>0</td>\n",
       "      <td>36.019323</td>\n",
       "      <td>115.086769</td>\n",
       "      <td>Terra Verde</td>\n",
       "      <td></td>\n",
       "      <td>89052</td>\n",
       "      <td>71</td>\n",
       "      <td>3.5</td>\n",
       "      <td>NV</td>\n",
       "    </tr>\n",
       "  </tbody>\n",
       "</table>\n",
       "</div>"
      ],
      "text/plain": [
       "                                                address  \\\n",
       "88961  Green Valley Ranch Resort, 2309 Paseo Verde Pkwy   \n",
       "\n",
       "                                              attributes  \\\n",
       "88961  {'Alcohol': 'full_bar', 'Ambience': '{'romanti...   \n",
       "\n",
       "                  business_id            categories       city  \\\n",
       "88961  Zmp2_b2gpSloz4Dv2VsVNg  Italian, Restaurants  Henderson   \n",
       "\n",
       "                                                   hours  is_open   latitude  \\\n",
       "88961  {'Monday': '17:0-22:0', 'Tuesday': '17:0-22:0'...        0  36.019323   \n",
       "\n",
       "        longitude         name neighborhood postal_code  review_count  stars  \\\n",
       "88961  115.086769  Terra Verde                    89052            71    3.5   \n",
       "\n",
       "      state  \n",
       "88961    NV  "
      ]
     },
     "execution_count": 7,
     "metadata": {},
     "output_type": "execute_result"
    }
   ],
   "source": [
    "business[business['business_id']=='Zmp2_b2gpSloz4Dv2VsVNg']"
   ]
  }
 ],
 "metadata": {
  "kernelspec": {
   "display_name": "Python 3",
   "language": "python",
   "name": "python3"
  },
  "language_info": {
   "codemirror_mode": {
    "name": "ipython",
    "version": 3
   },
   "file_extension": ".py",
   "mimetype": "text/x-python",
   "name": "python",
   "nbconvert_exporter": "python",
   "pygments_lexer": "ipython3",
   "version": "3.6.6"
  },
  "toc": {
   "base_numbering": 1,
   "nav_menu": {},
   "number_sections": true,
   "sideBar": true,
   "skip_h1_title": false,
   "title_cell": "Table of Contents",
   "title_sidebar": "Contents",
   "toc_cell": false,
   "toc_position": {},
   "toc_section_display": true,
   "toc_window_display": false
  },
  "varInspector": {
   "cols": {
    "lenName": 16,
    "lenType": 16,
    "lenVar": 40
   },
   "kernels_config": {
    "python": {
     "delete_cmd_postfix": "",
     "delete_cmd_prefix": "del ",
     "library": "var_list.py",
     "varRefreshCmd": "print(var_dic_list())"
    },
    "r": {
     "delete_cmd_postfix": ") ",
     "delete_cmd_prefix": "rm(",
     "library": "var_list.r",
     "varRefreshCmd": "cat(var_dic_list()) "
    }
   },
   "types_to_exclude": [
    "module",
    "function",
    "builtin_function_or_method",
    "instance",
    "_Feature"
   ],
   "window_display": false
  }
 },
 "nbformat": 4,
 "nbformat_minor": 2
}
